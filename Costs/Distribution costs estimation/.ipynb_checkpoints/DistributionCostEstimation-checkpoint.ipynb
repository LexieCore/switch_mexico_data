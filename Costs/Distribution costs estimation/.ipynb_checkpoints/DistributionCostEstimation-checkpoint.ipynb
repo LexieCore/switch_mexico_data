{
 "cells": [
  {
   "cell_type": "code",
   "execution_count": 46,
   "metadata": {
    "collapsed": false,
    "scrolled": true
   },
   "outputs": [],
   "source": [
    "#distribution cost estimation. For further detail, check the report on this directory\n",
    "import pandas as pd\n",
    "import numpy as np\n",
    "dfs=pd.read_csv(\"tables/categorized counties.csv\")\n",
    "'''The calculations of each of the distribution cost estimates \n",
    "is made using a simplified version of the formulas contained in the report\n",
    "for improving performance and for asuring none of our variables becomes cero (as some of them are really small)'''\n",
    "for c in dfs.index.tolist():\n",
    "    dfs.set_value(c,\"DistributionCost2 (millions of MXN)\", dfs.loc[c,\"Real state with electricity\"].astype(\"int64\")*1922*21172.83/(3*dfs[\"Real state with electricity\"].astype('int64').sum())+dfs.loc[c,\"land area (km^2)\"].astype(\"int64\")*21172.83/(dfs[\"land area (km^2)\"].astype('int64').sum()*3))\n",
    "\n",
    "    if str(dfs.loc[c,'County type'])==\"urban\":\n",
    "        dfs.set_value(c,'DistributionCost1 (millions of MXN)',dfs.loc[c,'land area (km^2)'].astype(\"float64\")*1*dfs.loc[c,\"Real state with electricity\"].astype(\"int64\")*.05*.005 + dfs.loc[c,\"Real state with electricity\"].astype(\"int64\")/4 * .35)\n",
    "    else:\n",
    "        dfs.set_value(c,'DistributionCost1 (millions of MXN)',dfs.loc[c,'land area (km^2)'].astype(\"float64\")*2*dfs.loc[c,\"Real state with electricity\"].astype(\"int64\")*.1*.003 + dfs.loc[c,\"Real state with electricity\"].astype(\"int64\")/6 *.45)\n",
    "    dfs.set_value(c,\"diference of estimation (millions of MXN)\",abs(dfs.loc[c,'DistributionCost1 (millions of MXN)']-dfs.loc[c,\"DistributionCost2 (millions of MXN)\"]))\n",
    "dfs.to_csv(\"tables/categorized counties.csv\",index=False)"
   ]
  },
  {
   "cell_type": "code",
   "execution_count": null,
   "metadata": {
    "collapsed": false
   },
   "outputs": [],
   "source": []
  },
  {
   "cell_type": "code",
   "execution_count": null,
   "metadata": {
    "collapsed": false
   },
   "outputs": [],
   "source": []
  },
  {
   "cell_type": "code",
   "execution_count": null,
   "metadata": {
    "collapsed": false
   },
   "outputs": [],
   "source": []
  },
  {
   "cell_type": "code",
   "execution_count": null,
   "metadata": {
    "collapsed": true
   },
   "outputs": [],
   "source": []
  }
 ],
 "metadata": {
  "hide_input": false,
  "kernelspec": {
   "display_name": "Python 2",
   "language": "python",
   "name": "python2"
  },
  "language_info": {
   "codemirror_mode": {
    "name": "ipython",
    "version": 2
   },
   "file_extension": ".py",
   "mimetype": "text/x-python",
   "name": "python",
   "nbconvert_exporter": "python",
   "pygments_lexer": "ipython2",
   "version": "2.7.11"
  }
 },
 "nbformat": 4,
 "nbformat_minor": 0
}

{
 "cells": [
  {
   "cell_type": "code",
   "execution_count": 116,
   "metadata": {
    "collapsed": false,
    "scrolled": true
   },
   "outputs": [],
   "source": [
    "import pandas as pd\n",
    "import numpy as np\n",
    "from sqlalchemy import create_engine\n",
    "area=pd.read_csv(\"tables/BalancingAreas.csv\",index_col=0)\n",
    "names=pd.read_csv('tables/Fuels.csv',usecols=[3],header=0)\n",
    "names=names.dropna()\n",
    "fuel_types=[]\n",
    "for i in names['Name2'].tolist():\n",
    "    fuel_types.append(i[0:i.index(';')].lower())\n",
    "fuel_types=list(set(fuel_types))\n",
    "fdict={}\n",
    "for i in fuel_types:\n",
    "    fdict[i]=pd.read_excel(\"tables/FuelsAnalysis.xlsx\",sheetname=i,header=range(2),index_col=0)\n"
   ]
  },
  {
   "cell_type": "code",
   "execution_count": 130,
   "metadata": {
    "collapsed": false,
    "scrolled": true
   },
   "outputs": [],
   "source": [
    "names=names.dropna()\n",
    "fuel_types=[]\n",
    "for i in names['Name2'].tolist():\n",
    "    fuel_types.append(i[0:i.index(';')].lower())\n",
    "fuel_types=list(set(fuel_types))\n",
    "dfi=pd.DataFrame(index=pd.MultiIndex.from_product([area.index.tolist(),fuel_types,range(2016,2031)]),columns=['fuel_price'])\n",
    "dfi.index.names=['load_area',\"fuel\",'year']\n",
    "for k in area.index.tolist():\n",
    "    for f in fuel_types:\n",
    "        for a in range(2016,2031):\n",
    "            try: dfi.xs([k,f,a])['fuel_price']=fdict[f].loc[a,area.loc[k,'balancing_area']].mean()\n",
    "            except KeyError: dfi.xs([k,f,a])['fuel_price']=fdict[f].loc[a,:].mean()\n",
    "            \n",
    "        "
   ]
  },
  {
   "cell_type": "code",
   "execution_count": 132,
   "metadata": {
    "collapsed": false
   },
   "outputs": [],
   "source": [
    "dfi.to_csv(\"tables/fuels_cost.csv\")\n",
    "\n"
   ]
  },
  {
   "cell_type": "code",
   "execution_count": 129,
   "metadata": {
    "collapsed": false,
    "scrolled": true
   },
   "outputs": [
    {
     "name": "stdout",
     "output_type": "stream",
     "text": [
      "                                         fuel_price\n",
      "load_area     fuel                  year           \n",
      "01-hermosillo liquified natural gas 2016    3.77628\n",
      "                                    2017    4.27273\n",
      "                                    2018    4.16494\n",
      "                                    2019    4.38988\n",
      "                                    2020    4.50818\n",
      "                                    2021    4.61254\n",
      "                                    2022     4.7169\n",
      "                                    2023    4.76908\n",
      "                                    2024    4.82126\n",
      "                                    2025    4.87344\n",
      "                                    2026    4.92562\n",
      "                                    2027     4.9778\n",
      "                                    2028    5.02998\n",
      "                                    2029    5.08216\n",
      "                                    2030    5.13434\n",
      "              diesel                2016    76.4344\n",
      "                                    2017    91.9086\n",
      "                                    2018    95.6841\n",
      "                                    2019     98.978\n",
      "                                    2020    101.087\n",
      "                                    2021    102.965\n",
      "                                    2022    104.947\n",
      "                                    2023    107.292\n",
      "                                    2024    111.307\n",
      "                                    2025    113.822\n",
      "                                    2026    115.327\n",
      "                                    2027    116.702\n",
      "                                    2028    117.869\n",
      "                                    2029    118.816\n",
      "                                    2030    119.763\n",
      "...                                             ...\n",
      "53-mulege     carbon                2016     50.387\n",
      "                                    2017    70.0846\n",
      "                                    2018    78.8703\n",
      "                                    2019     81.101\n",
      "                                    2020    88.4699\n",
      "                                    2021    90.8518\n",
      "                                    2022    91.3163\n",
      "                                    2023    92.2756\n",
      "                                    2024    92.7453\n",
      "                                    2025    93.2163\n",
      "                                    2026    93.9346\n",
      "                                    2027    93.9302\n",
      "                                    2028    94.4053\n",
      "                                    2029    94.8782\n",
      "                                    2030    95.3541\n",
      "              uranium               2016    3.77628\n",
      "                                    2017    4.27273\n",
      "                                    2018    4.16494\n",
      "                                    2019    4.38988\n",
      "                                    2020    4.50818\n",
      "                                    2021    4.61254\n",
      "                                    2022     4.7169\n",
      "                                    2023    4.76908\n",
      "                                    2024    4.82126\n",
      "                                    2025    4.87344\n",
      "                                    2026    4.92562\n",
      "                                    2027     4.9778\n",
      "                                    2028    5.02998\n",
      "                                    2029    5.08216\n",
      "                                    2030    5.13434\n",
      "\n",
      "[6360 rows x 1 columns]\n"
     ]
    }
   ],
   "source": []
  },
  {
   "cell_type": "code",
   "execution_count": null,
   "metadata": {
    "collapsed": false
   },
   "outputs": [],
   "source": []
  },
  {
   "cell_type": "code",
   "execution_count": null,
   "metadata": {
    "collapsed": true
   },
   "outputs": [],
   "source": []
  }
 ],
 "metadata": {
  "hide_input": false,
  "kernelspec": {
   "display_name": "Python 2",
   "language": "python",
   "name": "python2"
  },
  "language_info": {
   "codemirror_mode": {
    "name": "ipython",
    "version": 2
   },
   "file_extension": ".py",
   "mimetype": "text/x-python",
   "name": "python",
   "nbconvert_exporter": "python",
   "pygments_lexer": "ipython2",
   "version": "2.7.11"
  }
 },
 "nbformat": 4,
 "nbformat_minor": 0
}

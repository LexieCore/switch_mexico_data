{
 "cells": [
  {
   "cell_type": "code",
   "execution_count": 1,
   "metadata": {
    "collapsed": false
   },
   "outputs": [],
   "source": [
    "import pandas as pd\n",
    "import random\n",
    "import numpy as np\n",
    "def nearest_value(array,value):\n",
    "    idx=(np.abs(array-value)).argmin()\n",
    "    return idx"
   ]
  },
  {
   "cell_type": "code",
   "execution_count": 2,
   "metadata": {
    "collapsed": false
   },
   "outputs": [],
   "source": [
    "df = pd.read_csv(\"OrganizedTables/2016.csv\",index_col=range(3),header=0)\n",
    "df['year']=2016\n",
    "df.set_index('year',append=True,inplace=True)\n",
    "df=df.reorder_levels(['year', 'month', 'day','hour'])\n",
    "for i in range(2017,2031):\n",
    "    a=pd.read_csv(\"OrganizedTables/{0}.csv\".format(i),index_col=range(3),header=0)\n",
    "    a.columns=df.columns.tolist()\n",
    "    a['year']=i\n",
    "    a.set_index('year',append=True,inplace=True)\n",
    "    a=a.reorder_levels(['year', 'month', 'day','hour'])\n",
    "    df=df.append(a)\n",
    "df=df.astype('float64')"
   ]
  },
  {
   "cell_type": "code",
   "execution_count": 3,
   "metadata": {
    "collapsed": false,
    "scrolled": true
   },
   "outputs": [],
   "source": [
    "columnas =[df.columns.tolist(),['PeakDay','PeakDayValue','MonthlyAverage']]\n",
    "col = pd.MultiIndex.from_product(columnas)\n",
    "dfp=pd.DataFrame(index=pd.MultiIndex.from_tuples(df.xs([1,1],level=[2,3]).index.tolist()),columns=col)\n",
    "dfp\n",
    "for k in df.columns.tolist():\n",
    "    for a in range(2016,2031):\n",
    "        for m in range (1,13):\n",
    "            promedio_dias =[] \n",
    "            for d in df.xs([a,m,1],level=[0,1,3])['01-hermosillo'].index.tolist():\n",
    "                promedio_dias.append(float(df.xs([a,m,d],level=range(3))[k].mean()))\n",
    "            p=max(promedio_dias)\n",
    "            dfp.xs([a,m])[k,'PeakDay']=promedio_dias.index(p)+1\n",
    "            dfp.xs([a,m])[k,'PeakDayValue']=p\n",
    "            dfp.xs([a,m])[k,'MonthlyAverage']=(sum(promedio_dias)-p)/(len(promedio_dias)-1)\n",
    "            "
   ]
  },
  {
   "cell_type": "code",
   "execution_count": 4,
   "metadata": {
    "collapsed": false
   },
   "outputs": [],
   "source": [
    "df.to_csv(\"OrganizedTables/HourlyLoadPerNode.csv\")\n",
    "dfp.to_csv(\"OrganizedTables/LoadHighlightsPerNode.csv\")"
   ]
  },
  {
   "cell_type": "code",
   "execution_count": null,
   "metadata": {
    "collapsed": true
   },
   "outputs": [],
   "source": []
  }
 ],
 "metadata": {
  "hide_input": false,
  "kernelspec": {
   "display_name": "Python 2",
   "language": "python",
   "name": "python2"
  },
  "language_info": {
   "codemirror_mode": {
    "name": "ipython",
    "version": 2
   },
   "file_extension": ".py",
   "mimetype": "text/x-python",
   "name": "python",
   "nbconvert_exporter": "python",
   "pygments_lexer": "ipython2",
   "version": "2.7.11"
  }
 },
 "nbformat": 4,
 "nbformat_minor": 0
}

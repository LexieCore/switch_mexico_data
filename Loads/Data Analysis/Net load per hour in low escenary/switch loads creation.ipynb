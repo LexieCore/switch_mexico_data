{
 "cells": [
  {
   "cell_type": "code",
   "execution_count": 2,
   "metadata": {
    "collapsed": true
   },
   "outputs": [],
   "source": [
    "import pandas as pd\n",
    "import numpy as np\n",
    "df=pd.read_csv(\"OrganizedTables/HourlyLoadPerNode.csv\",index_col=range(4),header=0)"
   ]
  },
  {
   "cell_type": "code",
   "execution_count": 6,
   "metadata": {
    "collapsed": false
   },
   "outputs": [],
   "source": [
    "a=pd.DataFrame(index=df.index,columns=['load_area','timepoint','lz_demand_tz'])"
   ]
  },
  {
   "cell_type": "code",
   "execution_count": 62,
   "metadata": {
    "collapsed": false
   },
   "outputs": [],
   "source": []
  },
  {
   "cell_type": "code",
   "execution_count": 7,
   "metadata": {
    "collapsed": false
   },
   "outputs": [],
   "source": [
    "for y in range(2016,2031):\n",
    "        for m in range(1,13):\n",
    "            for d in a.xs([y,m,1],level=[0,1,3]).index.tolist():\n",
    "                for h in range(1,25):\n",
    "                    a.xs([y,m,d,h])['timepoint']=str(y)+str(m).zfill(2)+str(d).zfill(2)+str(h-1).zfill(2)\n",
    "time=a['timepoint'].tolist()  \n",
    "del a"
   ]
  },
  {
   "cell_type": "code",
   "execution_count": 8,
   "metadata": {
    "collapsed": false,
    "scrolled": true
   },
   "outputs": [],
   "source": [
    "final=pd.DataFrame()\n",
    "for k in df.columns.tolist():\n",
    "    b=pd.DataFrame(index=df.index,columns=['load_area','timepoint','lz_demand_mw'])\n",
    "    b['load_area']=k\n",
    "    b['lz_demand_mw']=df[k]\n",
    "    b.set_index('load_area',append=False,inplace=True)\n",
    "    b['timepoint']=time\n",
    "    final=final.append(b)"
   ]
  },
  {
   "cell_type": "code",
   "execution_count": 9,
   "metadata": {
    "collapsed": false
   },
   "outputs": [],
   "source": [
    "final.to_csv(\"OrganizedTables/loads_high.csv\")\n",
    "final.to_csv(\"../../../Main Tabs/loads_high.tab\",sep='\\t')"
   ]
  },
  {
   "cell_type": "code",
   "execution_count": 3,
   "metadata": {
    "collapsed": false
   },
   "outputs": [],
   "source": [
    "c=pd.DataFrame()\n",
    "for k in df.columns.tolist():\n",
    "    d=pd.DataFrame(index=range(3),columns=['load_zone','period','peak_demand_mw'])\n",
    "    d['load_zone']=k\n",
    "    for i in range(3):\n",
    "        d.loc[i,'period']=2016+(i*5)\n",
    "        d.loc[i,'peak_demand_mw']=df.loc[[2016+(i*5),2020+i*5],:][k].max()\n",
    "    d.set_index('load_zone',append=False,inplace=True)\n",
    "    c=c.append(d)  "
   ]
  },
  {
   "cell_type": "code",
   "execution_count": 4,
   "metadata": {
    "collapsed": true
   },
   "outputs": [],
   "source": [
    "c.to_csv(\"OrganizedTables/lz_peak_loads_high.csv\")\n",
    "c.to_csv(\"../../../Main Tabs/lz_peak_loads_high.tab\",sep='\\t')"
   ]
  },
  {
   "cell_type": "code",
   "execution_count": null,
   "metadata": {
    "collapsed": true
   },
   "outputs": [],
   "source": []
  }
 ],
 "metadata": {
  "hide_input": false,
  "kernelspec": {
   "display_name": "Python 2",
   "language": "python",
   "name": "python2"
  },
  "language_info": {
   "codemirror_mode": {
    "name": "ipython",
    "version": 2
   },
   "file_extension": ".py",
   "mimetype": "text/x-python",
   "name": "python",
   "nbconvert_exporter": "python",
   "pygments_lexer": "ipython2",
   "version": "2.7.11"
  }
 },
 "nbformat": 4,
 "nbformat_minor": 0
}
